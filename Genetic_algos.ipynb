{
  "nbformat": 4,
  "nbformat_minor": 0,
  "metadata": {
    "colab": {
      "provenance": [],
      "collapsed_sections": [],
      "authorship_tag": "ABX9TyNfMrpTIhJDyacvS0vNVz43",
      "include_colab_link": true
    },
    "kernelspec": {
      "name": "python3",
      "display_name": "Python 3"
    },
    "language_info": {
      "name": "python"
    }
  },
  "cells": [
    {
      "cell_type": "markdown",
      "metadata": {
        "id": "view-in-github",
        "colab_type": "text"
      },
      "source": [
        "<a href=\"https://colab.research.google.com/github/edproudlove/congenial-spork/blob/main/Genetic_algos.ipynb\" target=\"_parent\"><img src=\"https://colab.research.google.com/assets/colab-badge.svg\" alt=\"Open In Colab\"/></a>"
      ]
    },
    {
      "cell_type": "code",
      "execution_count": 6,
      "metadata": {
        "colab": {
          "base_uri": "https://localhost:8080/"
        },
        "id": "qI_7zTfz4R9e",
        "outputId": "342334ba-37ae-4104-b84c-16418b84575c"
      },
      "outputs": [
        {
          "output_type": "stream",
          "name": "stdout",
          "text": [
            "Looking in indexes: https://pypi.org/simple, https://us-python.pkg.dev/colab-wheels/public/simple/\n",
            "Collecting pymunk\n",
            "  Downloading pymunk-6.2.1-cp37-cp37m-manylinux_2_5_x86_64.manylinux1_x86_64.manylinux_2_12_x86_64.manylinux2010_x86_64.whl (976 kB)\n",
            "\u001b[K     |████████████████████████████████| 976 kB 34.7 MB/s \n",
            "\u001b[?25hRequirement already satisfied: cffi>=1.15.0 in /usr/local/lib/python3.7/dist-packages (from pymunk) (1.15.1)\n",
            "Requirement already satisfied: pycparser in /usr/local/lib/python3.7/dist-packages (from cffi>=1.15.0->pymunk) (2.21)\n",
            "Installing collected packages: pymunk\n",
            "Successfully installed pymunk-6.2.1\n"
          ]
        }
      ],
      "source": [
        "import numpy as np\n",
        "import random\n",
        "from tensorflow import keras\n",
        "import matplotlib.pyplot as plt\n",
        "!pip install pymunk\n",
        "import pymunk\n",
        "\n",
        "CROSSOVER_RATE = 0.2\n",
        "MUTATION_RATE = 0.05"
      ]
    },
    {
      "cell_type": "code",
      "source": [
        "def normalise_and_prep(state):\n",
        "    norm_pos = state[0] / 800 \n",
        "    norm_velocity = state[1] / 1500\n",
        "    arr = np.asarray([norm_pos, norm_velocity])\n",
        "    return arr.reshape(1, 2)"
      ],
      "metadata": {
        "id": "CZ3Jb4UR45_E"
      },
      "execution_count": 7,
      "outputs": []
    },
    {
      "cell_type": "code",
      "source": [
        "def run_test_with_model(model):\n",
        "\n",
        "  space = pymunk.Space()\n",
        "  space.gravity = 0, 2001 \n",
        "\n",
        "  b0 = space.static_body\n",
        "\n",
        "  segment_1 = pymunk.Segment(b0, (0, 800), (640, 800), 4)\n",
        "  segment_1.elasticity = 0.5\n",
        "\n",
        "  segment_2 = pymunk.Segment(b0, (0, 0), (640, 0), 4)\n",
        "  segment_2.elasticity = 0.5\n",
        "\n",
        "  body = pymunk.Body(mass=4, moment=10)\n",
        "  body.position = 100, 40\n",
        "\n",
        "  circle = pymunk.Circle(body, radius=20)\n",
        "  circle.elasticity = 0.95\n",
        "\n",
        "  space.add(body, circle, segment_1, segment_2)\n",
        "\n",
        "  #print(\"starting\")\n",
        "\n",
        "  reward = 0\n",
        "  running = True\n",
        "  frames_passed = 0\n",
        "  \n",
        "  while running:\n",
        "\n",
        "      space.step(0.01)\n",
        "      frames_passed += 1\n",
        "\n",
        "      curr_position = circle.body.position[1]\n",
        "      curr_velocity = circle.body.velocity[1]\n",
        "\n",
        "      if frames_passed % 60 == 0: #50 frames = half a second\n",
        "\n",
        "          state = normalise_and_prep([curr_position, curr_velocity])\n",
        "          force_size = model.predict(state)\n",
        "          #print(force_size)\n",
        "          force = -800000 * force_size\n",
        "          circle.body.apply_force_at_local_point((0, force), (0, 0)) #this code can add a force to the body:\n",
        "\n",
        "      if 200 < curr_position < 600: #this is how we decide a reward:\n",
        "          reward += 1\n",
        "        \n",
        "      if 350 < curr_position < 450: #this is how we decide a reward:\n",
        "          reward += 1\n",
        "      \n",
        "\n",
        "      if curr_position < 20 or  curr_position > 775 or frames_passed > 10000:  #if it hits the floor or goes too high\n",
        "          running = False\n",
        "  #print(reward)\n",
        "  return reward"
      ],
      "metadata": {
        "id": "1Nt0BWKJ49Xb"
      },
      "execution_count": 8,
      "outputs": []
    },
    {
      "cell_type": "code",
      "source": [
        "\n",
        "\n",
        "def create_random_model(input_shape, num_outputs):\n",
        "\n",
        "  curr_model = keras.models.Sequential([\n",
        "                                  keras.layers.Dense(6, input_shape=[input_shape]),   \n",
        "                                  keras.layers.Dense(10, activation='relu'),\n",
        "                                  keras.layers.Dense(10, activation='relu'),\n",
        "                                  keras.layers.Dense(num_outputs, activation='sigmoid') #changed from 2\n",
        "            ])\n",
        "  \n",
        "  model_weights = []\n",
        "  for layer_index in range(len(curr_model.layers)):\n",
        "    model_data = curr_model.layers[layer_index].get_weights()[0]\n",
        "\n",
        "    for i in range(len(model_data)):\n",
        "      for j in range(len(model_data[i])):\n",
        "        model_data[i][j] = random.uniform(-1, 1)\n",
        "\n",
        "    weight_framework = curr_model.layers[layer_index].get_weights()\n",
        "    weight_framework[0] = model_data\n",
        "    curr_model.layers[layer_index].set_weights(weight_framework)\n",
        "    #print(weight_framework)\n",
        "\n",
        "  return curr_model\n",
        "\n",
        "\n",
        "def initialize_population(population_size):\n",
        "  initial_generation = []\n",
        "\n",
        "  for i in range(population_size):\n",
        "    curr_model = create_random_model(2, 1)\n",
        "    \n",
        "    fittness_of_model = run_test_with_model(curr_model)\n",
        "    initial_generation.append({\n",
        "        'model':curr_model,\n",
        "        'fitness':fittness_of_model\n",
        "    })\n",
        "\n",
        "    #print(initial_generation[i])\n",
        "\n",
        "    \n",
        "\n",
        "  return initial_generation \n"
      ],
      "metadata": {
        "id": "oygLHdsw4_lv"
      },
      "execution_count": 9,
      "outputs": []
    },
    {
      "cell_type": "code",
      "source": [
        "#further idea could be to make the perform tornement sot hat i can change the number of participants and it still works corectly but i cannot be arsed\n",
        "\n",
        "def perform_tournement_of_4(population):\n",
        "  tournement_members = []\n",
        "  temp_population = population.copy()\n",
        "\n",
        "\n",
        "  for i in range(4):\n",
        "    tournement_members.append(temp_population.pop(random.randrange(len(temp_population))))\n",
        "\n",
        "  if tournement_members[0]['fitness'] < tournement_members[1]['fitness']:\n",
        "    tournement_members.pop(0)\n",
        "  else:\n",
        "    tournement_members.pop(1)\n",
        "\n",
        "  if tournement_members[1]['fitness'] < tournement_members[2]['fitness']:\n",
        "    tournement_members.pop(1)\n",
        "  else:\n",
        "    tournement_members.pop(2)\n",
        "\n",
        "  return tournement_members\n",
        "\n",
        "def perform_tornement(number_of_participants, population):\n",
        "  final_pool = []\n",
        "  number_iterations_of_4 = number_of_participants / 4\n",
        "  for i in range(int(number_iterations_of_4)):\n",
        "    pool_member_1, pool_member_2 = perform_tournement_of_4(population)\n",
        "    final_pool.append(pool_member_1)\n",
        "    final_pool.append(pool_member_2)\n",
        "  \n",
        "  return perform_tournement_of_4(final_pool)\n"
      ],
      "metadata": {
        "id": "uEJploMC5Cly"
      },
      "execution_count": 10,
      "outputs": []
    },
    {
      "cell_type": "code",
      "source": [
        "initial_pop = initialize_population(16)\n",
        "print(initial_pop)\n",
        "perform_tornement(8, initial_pop)"
      ],
      "metadata": {
        "colab": {
          "base_uri": "https://localhost:8080/"
        },
        "id": "cuCMC-c-5Ekr",
        "outputId": "1503420e-5bd7-4f7e-e63d-cf1fb965a171"
      },
      "execution_count": 11,
      "outputs": [
        {
          "output_type": "stream",
          "name": "stderr",
          "text": [
            "WARNING:tensorflow:5 out of the last 5 calls to <function Model.make_predict_function.<locals>.predict_function at 0x7efd5f6ac200> triggered tf.function retracing. Tracing is expensive and the excessive number of tracings could be due to (1) creating @tf.function repeatedly in a loop, (2) passing tensors with different shapes, (3) passing Python objects instead of tensors. For (1), please define your @tf.function outside of the loop. For (2), @tf.function has experimental_relax_shapes=True option that relaxes argument shapes that can avoid unnecessary retracing. For (3), please refer to https://www.tensorflow.org/guide/function#controlling_retracing and https://www.tensorflow.org/api_docs/python/tf/function for  more details.\n",
            "WARNING:tensorflow:6 out of the last 6 calls to <function Model.make_predict_function.<locals>.predict_function at 0x7efd5ff5fb90> triggered tf.function retracing. Tracing is expensive and the excessive number of tracings could be due to (1) creating @tf.function repeatedly in a loop, (2) passing tensors with different shapes, (3) passing Python objects instead of tensors. For (1), please define your @tf.function outside of the loop. For (2), @tf.function has experimental_relax_shapes=True option that relaxes argument shapes that can avoid unnecessary retracing. For (3), please refer to https://www.tensorflow.org/guide/function#controlling_retracing and https://www.tensorflow.org/api_docs/python/tf/function for  more details.\n"
          ]
        },
        {
          "output_type": "stream",
          "name": "stdout",
          "text": [
            "[{'model': <keras.engine.sequential.Sequential object at 0x7efd65e26350>, 'fitness': 50}, {'model': <keras.engine.sequential.Sequential object at 0x7efd60ff1dd0>, 'fitness': 74}, {'model': <keras.engine.sequential.Sequential object at 0x7efd60fdd3d0>, 'fitness': 69}, {'model': <keras.engine.sequential.Sequential object at 0x7efd5ff2ee90>, 'fitness': 59}, {'model': <keras.engine.sequential.Sequential object at 0x7efd5ff099d0>, 'fitness': 64}, {'model': <keras.engine.sequential.Sequential object at 0x7efd5ff590d0>, 'fitness': 316}, {'model': <keras.engine.sequential.Sequential object at 0x7efd5f5f61d0>, 'fitness': 78}, {'model': <keras.engine.sequential.Sequential object at 0x7efd68466b90>, 'fitness': 83}, {'model': <keras.engine.sequential.Sequential object at 0x7efd5f652a50>, 'fitness': 288}, {'model': <keras.engine.sequential.Sequential object at 0x7efd5f52d1d0>, 'fitness': 46}, {'model': <keras.engine.sequential.Sequential object at 0x7efd5f561990>, 'fitness': 99}, {'model': <keras.engine.sequential.Sequential object at 0x7efd5f677f90>, 'fitness': 66}, {'model': <keras.engine.sequential.Sequential object at 0x7efd5f5e8f90>, 'fitness': 102}, {'model': <keras.engine.sequential.Sequential object at 0x7efd5f48d310>, 'fitness': 44}, {'model': <keras.engine.sequential.Sequential object at 0x7efd5ff8ea10>, 'fitness': 75}, {'model': <keras.engine.sequential.Sequential object at 0x7efd5f457050>, 'fitness': 46}]\n"
          ]
        },
        {
          "output_type": "execute_result",
          "data": {
            "text/plain": [
              "[{'model': <keras.engine.sequential.Sequential at 0x7efd5f5e8f90>,\n",
              "  'fitness': 102},\n",
              " {'model': <keras.engine.sequential.Sequential at 0x7efd5f652a50>,\n",
              "  'fitness': 288}]"
            ]
          },
          "metadata": {},
          "execution_count": 11
        }
      ]
    },
    {
      "cell_type": "code",
      "source": [
        "def create_children(parents, crossover_rate=CROSSOVER_RATE, mutation_rate=MUTATION_RATE):\n",
        "\n",
        "  parent_1 = parents[0]['model']\n",
        "  parent_2 = parents[1]['model']\n",
        "\n",
        "  child_framework_1 = create_random_model(2, 1)\n",
        "  child_framework_2 = create_random_model(2, 1)\n",
        "\n",
        "  for layer_index in range(len(parent_1.layers)):\n",
        "    \n",
        "    child_1_weights = parent_1.layers[layer_index].get_weights()[0]\n",
        "    child_2_weights = parent_2.layers[layer_index].get_weights()[0]\n",
        "    \n",
        "    child_1_data = parent_1.layers[layer_index].get_weights()[0]\n",
        "    child_2_data = parent_2.layers[layer_index].get_weights()[0]\n",
        "\n",
        "    for i in range(len(child_1_data)):\n",
        "      for j in range(len(child_1_data[i])):\n",
        "\n",
        "        if random.uniform(0, 1) > 0.5:\n",
        "          child_1_weights[i][j] = child_1_data[i][j]\n",
        "        else:\n",
        "          child_1_weights[i][j] = child_2_data[i][j]\n",
        "\n",
        "        if random.uniform(0, 1) > 0.5:\n",
        "          child_2_weights[i][j] = child_1_data[i][j]\n",
        "        else:\n",
        "          child_2_weights[i][j] = child_2_data[i][j]\n",
        "\n",
        "        #mutation\n",
        "        if random.uniform(0, 1) < mutation_rate:\n",
        "          child_1_weights[i][j] =  - child_1_weights[i][j]\n",
        "        \n",
        "        if random.uniform(0, 1) < mutation_rate:\n",
        "          child_2_weights[i][j] =  - child_2_weights[i][j]\n",
        "\n",
        "\n",
        "    new_weight_1 = child_framework_1.layers[layer_index].get_weights()\n",
        "    new_weight_1[0] = child_1_weights\n",
        "\n",
        "    new_weight_2 = child_framework_2.layers[layer_index].get_weights()\n",
        "    new_weight_2[0] = child_2_weights\n",
        "\n",
        "    child_framework_1.layers[layer_index].set_weights(new_weight_1)\n",
        "    child_framework_2.layers[layer_index].set_weights(new_weight_2)\n",
        "\n",
        "  return child_framework_1, child_framework_2"
      ],
      "metadata": {
        "id": "sB_-BTLS5HJC"
      },
      "execution_count": 12,
      "outputs": []
    },
    {
      "cell_type": "code",
      "source": [
        "def display_and_return_metrics(population, generation, number_of_elites, number_of_random, best_fitness, time_since_last_best_fitness):\n",
        "  avg_fitness = 0\n",
        "  avg_fitness_excluding_elites = 0\n",
        "  stop_early = False\n",
        "\n",
        "  for member in population:\n",
        "    avg_fitness += member['fitness']\n",
        "  avg_fitness = avg_fitness / len(population)\n",
        "  \n",
        "\n",
        "  for member in population[:-(number_of_elites + number_of_random)]:\n",
        "    avg_fitness_excluding_elites += member['fitness']\n",
        "  avg_fitness_excluding_elites = avg_fitness_excluding_elites / (len(population) - number_of_elites - number_of_random) \n",
        "\n",
        "  print(f'GENERATION: {generation}, AVG FITNESS: {avg_fitness}, POPULATION SIZE: {len(population)}, FITNESS EXCLUDING ELITES: {avg_fitness_excluding_elites}')\n",
        "  print(population)\n",
        "  print('====================================================================================================')\n",
        "\n",
        "  #printing the best model weights:\n",
        "  if generation % 10 == 0 and generation is not 0:\n",
        "    print(population[-(number_of_elites + number_of_random)])\n",
        "    #for layer in population[-10]['model'].layers:\n",
        "      #print(layer.get_weights())\n",
        "    print('====================================================================================================')\n",
        "  \n",
        "  #early_stopping architecture\n",
        "  if avg_fitness > best_fitness:\n",
        "    best_fitness = avg_fitness\n",
        "    time_since_last_best_fitness = 0\n",
        "\n",
        "  time_since_last_best_fitness += 1\n",
        "\n",
        "  if time_since_last_best_fitness > 14:\n",
        "    stop_early = True\n",
        "\n",
        "  return avg_fitness, avg_fitness_excluding_elites, stop_early, best_fitness, time_since_last_best_fitness"
      ],
      "metadata": {
        "id": "6HwXo3Lw5I2C"
      },
      "execution_count": 13,
      "outputs": []
    },
    {
      "cell_type": "code",
      "source": [
        "def create_new_generation(previous_gen, number_of_prev_elites, number_of_random, population_size):\n",
        "  generation = []\n",
        "  number_of_reps = int((population_size - number_of_prev_elites - number_of_random) /2)\n",
        "\n",
        "  for i in range(number_of_reps): \n",
        "    tornement_winners = perform_tornement(8, previous_gen)\n",
        "    child_1, child_2 = create_children(tornement_winners)\n",
        "\n",
        "    fittness_of_child_1 = run_test_with_model(child_1)  \n",
        "    fittness_of_child_2 = run_test_with_model(child_2)  \n",
        "\n",
        "    generation.append({\n",
        "        'model':child_1,\n",
        "        'fitness':fittness_of_child_1\n",
        "    })\n",
        "\n",
        "    generation.append({\n",
        "        'model':child_2,\n",
        "        'fitness':fittness_of_child_2\n",
        "    })\n",
        "\n",
        "  #last we need to get the best n from the prev generation \n",
        "  previous_gen_sorted = sorted(previous_gen, key=lambda d: d['fitness'])\n",
        "  for i in range(number_of_prev_elites):\n",
        "    elite = previous_gen_sorted.pop()\n",
        "    generation.append(elite)\n",
        "  \n",
        "  for i in range(number_of_random):\n",
        "    curr_model = create_random_model(2, 1)\n",
        "    \n",
        "    fittness_of_model = run_test_with_model(curr_model)\n",
        "    generation.append({\n",
        "        'model':curr_model,\n",
        "        'fitness':fittness_of_model\n",
        "    })\n",
        "\n",
        "  return generation"
      ],
      "metadata": {
        "id": "0hgpR6R_5Z54"
      },
      "execution_count": 14,
      "outputs": []
    },
    {
      "cell_type": "code",
      "source": [
        "\n",
        "NUMBER_OF_GENERATIONS = 15\n",
        "SIZE_OF_POPULATION = 40\n",
        "NUMBER_OF_ELITES = 8\n",
        "NUMBER_OF_RANDOM = 0\n",
        "fitness_history = []\n",
        "fitness_history_excluding_elites = []\n",
        "best_fitness = 0\n",
        "time_since_last_best_fitness = 0\n",
        "\n",
        "population = initialize_population(SIZE_OF_POPULATION)  #I have added on the v2 for messing around purposes \n",
        "curr_avg_fitness, curr_avg_fitness_excluding_elites, stop_early, best_fitness, time_since_last_best_fitness  = display_and_return_metrics(population, 0, NUMBER_OF_ELITES, NUMBER_OF_RANDOM, best_fitness, time_since_last_best_fitness)\n",
        "fitness_history.append(curr_avg_fitness)\n",
        "fitness_history_excluding_elites.append(curr_avg_fitness_excluding_elites)\n",
        "\n",
        "for generation in range(1, NUMBER_OF_GENERATIONS):\n",
        "  population = create_new_generation(population, NUMBER_OF_ELITES, NUMBER_OF_RANDOM, SIZE_OF_POPULATION)\n",
        "  curr_avg_fitness, curr_avg_fitness_excluding_elites, stop_early, best_fitness, time_since_last_best_fitness = display_and_return_metrics(population, generation, NUMBER_OF_ELITES, NUMBER_OF_RANDOM, best_fitness, time_since_last_best_fitness)\n",
        "\n",
        "  fitness_history.append(curr_avg_fitness)\n",
        "  fitness_history_excluding_elites.append(curr_avg_fitness_excluding_elites)\n",
        "  if stop_early:\n",
        "    break\n",
        "  "
      ],
      "metadata": {
        "colab": {
          "base_uri": "https://localhost:8080/",
          "height": 470
        },
        "id": "A14yIs_y5dxf",
        "outputId": "8b0eb8c8-deac-4075-c235-b67868375893"
      },
      "execution_count": 15,
      "outputs": [
        {
          "output_type": "stream",
          "name": "stdout",
          "text": [
            "GENERATION: 0, AVG FITNESS: 149.525, POPULATION SIZE: 40, FITNESS EXCLUDING ELITES: 132.96875\n",
            "[{'model': <keras.engine.sequential.Sequential object at 0x7efd5f3d2690>, 'fitness': 78}, {'model': <keras.engine.sequential.Sequential object at 0x7efd5f3e6410>, 'fitness': 718}, {'model': <keras.engine.sequential.Sequential object at 0x7efd5f275210>, 'fitness': 66}, {'model': <keras.engine.sequential.Sequential object at 0x7efd5f2cd710>, 'fitness': 43}, {'model': <keras.engine.sequential.Sequential object at 0x7efd5f269290>, 'fitness': 74}, {'model': <keras.engine.sequential.Sequential object at 0x7efd5f354c10>, 'fitness': 72}, {'model': <keras.engine.sequential.Sequential object at 0x7efd5f1f42d0>, 'fitness': 68}, {'model': <keras.engine.sequential.Sequential object at 0x7efd5f38a490>, 'fitness': 97}, {'model': <keras.engine.sequential.Sequential object at 0x7efd5f1cf450>, 'fitness': 97}, {'model': <keras.engine.sequential.Sequential object at 0x7efd5f1d3a50>, 'fitness': 43}, {'model': <keras.engine.sequential.Sequential object at 0x7efd5f16a410>, 'fitness': 74}, {'model': <keras.engine.sequential.Sequential object at 0x7efd5f5a4110>, 'fitness': 60}, {'model': <keras.engine.sequential.Sequential object at 0x7efd5f4a8350>, 'fitness': 51}, {'model': <keras.engine.sequential.Sequential object at 0x7efd5f471090>, 'fitness': 44}, {'model': <keras.engine.sequential.Sequential object at 0x7efd5f326e50>, 'fitness': 119}, {'model': <keras.engine.sequential.Sequential object at 0x7efd5f53a5d0>, 'fitness': 92}, {'model': <keras.engine.sequential.Sequential object at 0x7efd5f380ad0>, 'fitness': 60}, {'model': <keras.engine.sequential.Sequential object at 0x7efd5f193810>, 'fitness': 285}, {'model': <keras.engine.sequential.Sequential object at 0x7efd5f0330d0>, 'fitness': 143}, {'model': <keras.engine.sequential.Sequential object at 0x7efd5f080e50>, 'fitness': 251}, {'model': <keras.engine.sequential.Sequential object at 0x7efd5f2b0850>, 'fitness': 67}, {'model': <keras.engine.sequential.Sequential object at 0x7efd5efda690>, 'fitness': 89}, {'model': <keras.engine.sequential.Sequential object at 0x7efd5efb6250>, 'fitness': 47}, {'model': <keras.engine.sequential.Sequential object at 0x7efd4cf5b990>, 'fitness': 61}, {'model': <keras.engine.sequential.Sequential object at 0x7efd4d779690>, 'fitness': 66}, {'model': <keras.engine.sequential.Sequential object at 0x7efd5eff1a50>, 'fitness': 50}, {'model': <keras.engine.sequential.Sequential object at 0x7efd4d71d550>, 'fitness': 101}, {'model': <keras.engine.sequential.Sequential object at 0x7efd4d6c9710>, 'fitness': 80}, {'model': <keras.engine.sequential.Sequential object at 0x7efd4d73e910>, 'fitness': 64}, {'model': <keras.engine.sequential.Sequential object at 0x7efd4d65c210>, 'fitness': 63}, {'model': <keras.engine.sequential.Sequential object at 0x7efd4d631e90>, 'fitness': 762}, {'model': <keras.engine.sequential.Sequential object at 0x7efd4d577f90>, 'fitness': 270}, {'model': <keras.engine.sequential.Sequential object at 0x7efd4d5b84d0>, 'fitness': 1030}, {'model': <keras.engine.sequential.Sequential object at 0x7efd4d3724d0>, 'fitness': 95}, {'model': <keras.engine.sequential.Sequential object at 0x7efd4d3d3d90>, 'fitness': 91}, {'model': <keras.engine.sequential.Sequential object at 0x7efd4d570150>, 'fitness': 44}, {'model': <keras.engine.sequential.Sequential object at 0x7efd4d22b9d0>, 'fitness': 108}, {'model': <keras.engine.sequential.Sequential object at 0x7efd4d453a50>, 'fitness': 253}, {'model': <keras.engine.sequential.Sequential object at 0x7efd4d1c2b10>, 'fitness': 48}, {'model': <keras.engine.sequential.Sequential object at 0x7efd4d231450>, 'fitness': 57}]\n",
            "====================================================================================================\n"
          ]
        },
        {
          "output_type": "error",
          "ename": "KeyboardInterrupt",
          "evalue": "ignored",
          "traceback": [
            "\u001b[0;31m---------------------------------------------------------------------------\u001b[0m",
            "\u001b[0;31mKeyboardInterrupt\u001b[0m                         Traceback (most recent call last)",
            "\u001b[0;32m<ipython-input-15-3335ccf9685a>\u001b[0m in \u001b[0;36m<module>\u001b[0;34m\u001b[0m\n\u001b[1;32m     14\u001b[0m \u001b[0;34m\u001b[0m\u001b[0m\n\u001b[1;32m     15\u001b[0m \u001b[0;32mfor\u001b[0m \u001b[0mgeneration\u001b[0m \u001b[0;32min\u001b[0m \u001b[0mrange\u001b[0m\u001b[0;34m(\u001b[0m\u001b[0;36m1\u001b[0m\u001b[0;34m,\u001b[0m \u001b[0mNUMBER_OF_GENERATIONS\u001b[0m\u001b[0;34m)\u001b[0m\u001b[0;34m:\u001b[0m\u001b[0;34m\u001b[0m\u001b[0;34m\u001b[0m\u001b[0m\n\u001b[0;32m---> 16\u001b[0;31m   \u001b[0mpopulation\u001b[0m \u001b[0;34m=\u001b[0m \u001b[0mcreate_new_generation\u001b[0m\u001b[0;34m(\u001b[0m\u001b[0mpopulation\u001b[0m\u001b[0;34m,\u001b[0m \u001b[0mNUMBER_OF_ELITES\u001b[0m\u001b[0;34m,\u001b[0m \u001b[0mNUMBER_OF_RANDOM\u001b[0m\u001b[0;34m,\u001b[0m \u001b[0mSIZE_OF_POPULATION\u001b[0m\u001b[0;34m)\u001b[0m\u001b[0;34m\u001b[0m\u001b[0;34m\u001b[0m\u001b[0m\n\u001b[0m\u001b[1;32m     17\u001b[0m   \u001b[0mcurr_avg_fitness\u001b[0m\u001b[0;34m,\u001b[0m \u001b[0mcurr_avg_fitness_excluding_elites\u001b[0m\u001b[0;34m,\u001b[0m \u001b[0mstop_early\u001b[0m\u001b[0;34m,\u001b[0m \u001b[0mbest_fitness\u001b[0m\u001b[0;34m,\u001b[0m \u001b[0mtime_since_last_best_fitness\u001b[0m \u001b[0;34m=\u001b[0m \u001b[0mdisplay_and_return_metrics\u001b[0m\u001b[0;34m(\u001b[0m\u001b[0mpopulation\u001b[0m\u001b[0;34m,\u001b[0m \u001b[0mgeneration\u001b[0m\u001b[0;34m,\u001b[0m \u001b[0mNUMBER_OF_ELITES\u001b[0m\u001b[0;34m,\u001b[0m \u001b[0mNUMBER_OF_RANDOM\u001b[0m\u001b[0;34m,\u001b[0m \u001b[0mbest_fitness\u001b[0m\u001b[0;34m,\u001b[0m \u001b[0mtime_since_last_best_fitness\u001b[0m\u001b[0;34m)\u001b[0m\u001b[0;34m\u001b[0m\u001b[0;34m\u001b[0m\u001b[0m\n\u001b[1;32m     18\u001b[0m \u001b[0;34m\u001b[0m\u001b[0m\n",
            "\u001b[0;32m<ipython-input-14-dd58bd93554f>\u001b[0m in \u001b[0;36mcreate_new_generation\u001b[0;34m(previous_gen, number_of_prev_elites, number_of_random, population_size)\u001b[0m\n\u001b[1;32m      7\u001b[0m     \u001b[0mchild_1\u001b[0m\u001b[0;34m,\u001b[0m \u001b[0mchild_2\u001b[0m \u001b[0;34m=\u001b[0m \u001b[0mcreate_children\u001b[0m\u001b[0;34m(\u001b[0m\u001b[0mtornement_winners\u001b[0m\u001b[0;34m)\u001b[0m\u001b[0;34m\u001b[0m\u001b[0;34m\u001b[0m\u001b[0m\n\u001b[1;32m      8\u001b[0m \u001b[0;34m\u001b[0m\u001b[0m\n\u001b[0;32m----> 9\u001b[0;31m     \u001b[0mfittness_of_child_1\u001b[0m \u001b[0;34m=\u001b[0m \u001b[0mrun_test_with_model\u001b[0m\u001b[0;34m(\u001b[0m\u001b[0mchild_1\u001b[0m\u001b[0;34m)\u001b[0m\u001b[0;34m\u001b[0m\u001b[0;34m\u001b[0m\u001b[0m\n\u001b[0m\u001b[1;32m     10\u001b[0m     \u001b[0mfittness_of_child_2\u001b[0m \u001b[0;34m=\u001b[0m \u001b[0mrun_test_with_model\u001b[0m\u001b[0;34m(\u001b[0m\u001b[0mchild_2\u001b[0m\u001b[0;34m)\u001b[0m\u001b[0;34m\u001b[0m\u001b[0;34m\u001b[0m\u001b[0m\n\u001b[1;32m     11\u001b[0m \u001b[0;34m\u001b[0m\u001b[0m\n",
            "\u001b[0;32m<ipython-input-8-384b08b8a2fe>\u001b[0m in \u001b[0;36mrun_test_with_model\u001b[0;34m(model)\u001b[0m\n\u001b[1;32m     37\u001b[0m \u001b[0;34m\u001b[0m\u001b[0m\n\u001b[1;32m     38\u001b[0m           \u001b[0mstate\u001b[0m \u001b[0;34m=\u001b[0m \u001b[0mnormalise_and_prep\u001b[0m\u001b[0;34m(\u001b[0m\u001b[0;34m[\u001b[0m\u001b[0mcurr_position\u001b[0m\u001b[0;34m,\u001b[0m \u001b[0mcurr_velocity\u001b[0m\u001b[0;34m]\u001b[0m\u001b[0;34m)\u001b[0m\u001b[0;34m\u001b[0m\u001b[0;34m\u001b[0m\u001b[0m\n\u001b[0;32m---> 39\u001b[0;31m           \u001b[0mforce_size\u001b[0m \u001b[0;34m=\u001b[0m \u001b[0mmodel\u001b[0m\u001b[0;34m.\u001b[0m\u001b[0mpredict\u001b[0m\u001b[0;34m(\u001b[0m\u001b[0mstate\u001b[0m\u001b[0;34m)\u001b[0m\u001b[0;34m\u001b[0m\u001b[0;34m\u001b[0m\u001b[0m\n\u001b[0m\u001b[1;32m     40\u001b[0m           \u001b[0;31m#print(force_size)\u001b[0m\u001b[0;34m\u001b[0m\u001b[0;34m\u001b[0m\u001b[0;34m\u001b[0m\u001b[0m\n\u001b[1;32m     41\u001b[0m           \u001b[0mforce\u001b[0m \u001b[0;34m=\u001b[0m \u001b[0;34m-\u001b[0m\u001b[0;36m800000\u001b[0m \u001b[0;34m*\u001b[0m \u001b[0mforce_size\u001b[0m\u001b[0;34m\u001b[0m\u001b[0;34m\u001b[0m\u001b[0m\n",
            "\u001b[0;32m/usr/local/lib/python3.7/dist-packages/keras/utils/traceback_utils.py\u001b[0m in \u001b[0;36merror_handler\u001b[0;34m(*args, **kwargs)\u001b[0m\n\u001b[1;32m     62\u001b[0m     \u001b[0mfiltered_tb\u001b[0m \u001b[0;34m=\u001b[0m \u001b[0;32mNone\u001b[0m\u001b[0;34m\u001b[0m\u001b[0;34m\u001b[0m\u001b[0m\n\u001b[1;32m     63\u001b[0m     \u001b[0;32mtry\u001b[0m\u001b[0;34m:\u001b[0m\u001b[0;34m\u001b[0m\u001b[0;34m\u001b[0m\u001b[0m\n\u001b[0;32m---> 64\u001b[0;31m       \u001b[0;32mreturn\u001b[0m \u001b[0mfn\u001b[0m\u001b[0;34m(\u001b[0m\u001b[0;34m*\u001b[0m\u001b[0margs\u001b[0m\u001b[0;34m,\u001b[0m \u001b[0;34m**\u001b[0m\u001b[0mkwargs\u001b[0m\u001b[0;34m)\u001b[0m\u001b[0;34m\u001b[0m\u001b[0;34m\u001b[0m\u001b[0m\n\u001b[0m\u001b[1;32m     65\u001b[0m     \u001b[0;32mexcept\u001b[0m \u001b[0mException\u001b[0m \u001b[0;32mas\u001b[0m \u001b[0me\u001b[0m\u001b[0;34m:\u001b[0m  \u001b[0;31m# pylint: disable=broad-except\u001b[0m\u001b[0;34m\u001b[0m\u001b[0;34m\u001b[0m\u001b[0m\n\u001b[1;32m     66\u001b[0m       \u001b[0mfiltered_tb\u001b[0m \u001b[0;34m=\u001b[0m \u001b[0m_process_traceback_frames\u001b[0m\u001b[0;34m(\u001b[0m\u001b[0me\u001b[0m\u001b[0;34m.\u001b[0m\u001b[0m__traceback__\u001b[0m\u001b[0;34m)\u001b[0m\u001b[0;34m\u001b[0m\u001b[0;34m\u001b[0m\u001b[0m\n",
            "\u001b[0;32m/usr/local/lib/python3.7/dist-packages/keras/engine/training.py\u001b[0m in \u001b[0;36mpredict\u001b[0;34m(self, x, batch_size, verbose, steps, callbacks, max_queue_size, workers, use_multiprocessing)\u001b[0m\n\u001b[1;32m   1976\u001b[0m       \u001b[0mcallbacks\u001b[0m\u001b[0;34m.\u001b[0m\u001b[0mon_predict_begin\u001b[0m\u001b[0;34m(\u001b[0m\u001b[0;34m)\u001b[0m\u001b[0;34m\u001b[0m\u001b[0;34m\u001b[0m\u001b[0m\n\u001b[1;32m   1977\u001b[0m       \u001b[0mbatch_outputs\u001b[0m \u001b[0;34m=\u001b[0m \u001b[0;32mNone\u001b[0m\u001b[0;34m\u001b[0m\u001b[0;34m\u001b[0m\u001b[0m\n\u001b[0;32m-> 1978\u001b[0;31m       \u001b[0;32mfor\u001b[0m \u001b[0m_\u001b[0m\u001b[0;34m,\u001b[0m \u001b[0miterator\u001b[0m \u001b[0;32min\u001b[0m \u001b[0mdata_handler\u001b[0m\u001b[0;34m.\u001b[0m\u001b[0menumerate_epochs\u001b[0m\u001b[0;34m(\u001b[0m\u001b[0;34m)\u001b[0m\u001b[0;34m:\u001b[0m  \u001b[0;31m# Single epoch.\u001b[0m\u001b[0;34m\u001b[0m\u001b[0;34m\u001b[0m\u001b[0m\n\u001b[0m\u001b[1;32m   1979\u001b[0m         \u001b[0;32mwith\u001b[0m \u001b[0mdata_handler\u001b[0m\u001b[0;34m.\u001b[0m\u001b[0mcatch_stop_iteration\u001b[0m\u001b[0;34m(\u001b[0m\u001b[0;34m)\u001b[0m\u001b[0;34m:\u001b[0m\u001b[0;34m\u001b[0m\u001b[0;34m\u001b[0m\u001b[0m\n\u001b[1;32m   1980\u001b[0m           \u001b[0;32mfor\u001b[0m \u001b[0mstep\u001b[0m \u001b[0;32min\u001b[0m \u001b[0mdata_handler\u001b[0m\u001b[0;34m.\u001b[0m\u001b[0msteps\u001b[0m\u001b[0;34m(\u001b[0m\u001b[0;34m)\u001b[0m\u001b[0;34m:\u001b[0m\u001b[0;34m\u001b[0m\u001b[0;34m\u001b[0m\u001b[0m\n",
            "\u001b[0;32m/usr/local/lib/python3.7/dist-packages/keras/engine/data_adapter.py\u001b[0m in \u001b[0;36menumerate_epochs\u001b[0;34m(self)\u001b[0m\n\u001b[1;32m   1189\u001b[0m     \u001b[0;34m\"\"\"Yields `(epoch, tf.data.Iterator)`.\"\"\"\u001b[0m\u001b[0;34m\u001b[0m\u001b[0;34m\u001b[0m\u001b[0m\n\u001b[1;32m   1190\u001b[0m     \u001b[0;32mwith\u001b[0m \u001b[0mself\u001b[0m\u001b[0;34m.\u001b[0m\u001b[0m_truncate_execution_to_epoch\u001b[0m\u001b[0;34m(\u001b[0m\u001b[0;34m)\u001b[0m\u001b[0;34m:\u001b[0m\u001b[0;34m\u001b[0m\u001b[0;34m\u001b[0m\u001b[0m\n\u001b[0;32m-> 1191\u001b[0;31m       \u001b[0mdata_iterator\u001b[0m \u001b[0;34m=\u001b[0m \u001b[0miter\u001b[0m\u001b[0;34m(\u001b[0m\u001b[0mself\u001b[0m\u001b[0;34m.\u001b[0m\u001b[0m_dataset\u001b[0m\u001b[0;34m)\u001b[0m\u001b[0;34m\u001b[0m\u001b[0;34m\u001b[0m\u001b[0m\n\u001b[0m\u001b[1;32m   1192\u001b[0m       \u001b[0;32mfor\u001b[0m \u001b[0mepoch\u001b[0m \u001b[0;32min\u001b[0m \u001b[0mrange\u001b[0m\u001b[0;34m(\u001b[0m\u001b[0mself\u001b[0m\u001b[0;34m.\u001b[0m\u001b[0m_initial_epoch\u001b[0m\u001b[0;34m,\u001b[0m \u001b[0mself\u001b[0m\u001b[0;34m.\u001b[0m\u001b[0m_epochs\u001b[0m\u001b[0;34m)\u001b[0m\u001b[0;34m:\u001b[0m\u001b[0;34m\u001b[0m\u001b[0;34m\u001b[0m\u001b[0m\n\u001b[1;32m   1193\u001b[0m         \u001b[0;32mif\u001b[0m \u001b[0mself\u001b[0m\u001b[0;34m.\u001b[0m\u001b[0m_insufficient_data\u001b[0m\u001b[0;34m:\u001b[0m  \u001b[0;31m# Set by `catch_stop_iteration`.\u001b[0m\u001b[0;34m\u001b[0m\u001b[0;34m\u001b[0m\u001b[0m\n",
            "\u001b[0;32m/usr/local/lib/python3.7/dist-packages/tensorflow/python/data/ops/dataset_ops.py\u001b[0m in \u001b[0;36m__iter__\u001b[0;34m(self)\u001b[0m\n\u001b[1;32m    484\u001b[0m     \u001b[0;32mif\u001b[0m \u001b[0mcontext\u001b[0m\u001b[0;34m.\u001b[0m\u001b[0mexecuting_eagerly\u001b[0m\u001b[0;34m(\u001b[0m\u001b[0;34m)\u001b[0m \u001b[0;32mor\u001b[0m \u001b[0mops\u001b[0m\u001b[0;34m.\u001b[0m\u001b[0minside_function\u001b[0m\u001b[0;34m(\u001b[0m\u001b[0;34m)\u001b[0m\u001b[0;34m:\u001b[0m\u001b[0;34m\u001b[0m\u001b[0;34m\u001b[0m\u001b[0m\n\u001b[1;32m    485\u001b[0m       \u001b[0;32mwith\u001b[0m \u001b[0mops\u001b[0m\u001b[0;34m.\u001b[0m\u001b[0mcolocate_with\u001b[0m\u001b[0;34m(\u001b[0m\u001b[0mself\u001b[0m\u001b[0;34m.\u001b[0m\u001b[0m_variant_tensor\u001b[0m\u001b[0;34m)\u001b[0m\u001b[0;34m:\u001b[0m\u001b[0;34m\u001b[0m\u001b[0;34m\u001b[0m\u001b[0m\n\u001b[0;32m--> 486\u001b[0;31m         \u001b[0;32mreturn\u001b[0m \u001b[0miterator_ops\u001b[0m\u001b[0;34m.\u001b[0m\u001b[0mOwnedIterator\u001b[0m\u001b[0;34m(\u001b[0m\u001b[0mself\u001b[0m\u001b[0;34m)\u001b[0m\u001b[0;34m\u001b[0m\u001b[0;34m\u001b[0m\u001b[0m\n\u001b[0m\u001b[1;32m    487\u001b[0m     \u001b[0;32melse\u001b[0m\u001b[0;34m:\u001b[0m\u001b[0;34m\u001b[0m\u001b[0;34m\u001b[0m\u001b[0m\n\u001b[1;32m    488\u001b[0m       raise RuntimeError(\"`tf.data.Dataset` only supports Python-style \"\n",
            "\u001b[0;32m/usr/local/lib/python3.7/dist-packages/tensorflow/python/data/ops/iterator_ops.py\u001b[0m in \u001b[0;36m__init__\u001b[0;34m(self, dataset, components, element_spec)\u001b[0m\n\u001b[1;32m    753\u001b[0m             \u001b[0;34m\"When `dataset` is provided, `element_spec` and `components` must \"\u001b[0m\u001b[0;34m\u001b[0m\u001b[0;34m\u001b[0m\u001b[0m\n\u001b[1;32m    754\u001b[0m             \"not be specified.\")\n\u001b[0;32m--> 755\u001b[0;31m       \u001b[0mself\u001b[0m\u001b[0;34m.\u001b[0m\u001b[0m_create_iterator\u001b[0m\u001b[0;34m(\u001b[0m\u001b[0mdataset\u001b[0m\u001b[0;34m)\u001b[0m\u001b[0;34m\u001b[0m\u001b[0;34m\u001b[0m\u001b[0m\n\u001b[0m\u001b[1;32m    756\u001b[0m \u001b[0;34m\u001b[0m\u001b[0m\n\u001b[1;32m    757\u001b[0m     \u001b[0mself\u001b[0m\u001b[0;34m.\u001b[0m\u001b[0m_get_next_call_count\u001b[0m \u001b[0;34m=\u001b[0m \u001b[0;36m0\u001b[0m\u001b[0;34m\u001b[0m\u001b[0;34m\u001b[0m\u001b[0m\n",
            "\u001b[0;32m/usr/local/lib/python3.7/dist-packages/tensorflow/python/data/ops/iterator_ops.py\u001b[0m in \u001b[0;36m_create_iterator\u001b[0;34m(self, dataset)\u001b[0m\n\u001b[1;32m    785\u001b[0m                 \u001b[0moutput_types\u001b[0m\u001b[0;34m=\u001b[0m\u001b[0mself\u001b[0m\u001b[0;34m.\u001b[0m\u001b[0m_flat_output_types\u001b[0m\u001b[0;34m,\u001b[0m\u001b[0;34m\u001b[0m\u001b[0;34m\u001b[0m\u001b[0m\n\u001b[1;32m    786\u001b[0m                 output_shapes=self._flat_output_shapes))\n\u001b[0;32m--> 787\u001b[0;31m         \u001b[0mgen_dataset_ops\u001b[0m\u001b[0;34m.\u001b[0m\u001b[0mmake_iterator\u001b[0m\u001b[0;34m(\u001b[0m\u001b[0mds_variant\u001b[0m\u001b[0;34m,\u001b[0m \u001b[0mself\u001b[0m\u001b[0;34m.\u001b[0m\u001b[0m_iterator_resource\u001b[0m\u001b[0;34m)\u001b[0m\u001b[0;34m\u001b[0m\u001b[0;34m\u001b[0m\u001b[0m\n\u001b[0m\u001b[1;32m    788\u001b[0m         \u001b[0;31m# Delete the resource when this object is deleted\u001b[0m\u001b[0;34m\u001b[0m\u001b[0;34m\u001b[0m\u001b[0;34m\u001b[0m\u001b[0m\n\u001b[1;32m    789\u001b[0m         self._resource_deleter = IteratorResourceDeleter(\n",
            "\u001b[0;32m/usr/local/lib/python3.7/dist-packages/tensorflow/python/ops/gen_dataset_ops.py\u001b[0m in \u001b[0;36mmake_iterator\u001b[0;34m(dataset, iterator, name)\u001b[0m\n\u001b[1;32m   3314\u001b[0m     \u001b[0;32mtry\u001b[0m\u001b[0;34m:\u001b[0m\u001b[0;34m\u001b[0m\u001b[0;34m\u001b[0m\u001b[0m\n\u001b[1;32m   3315\u001b[0m       _result = pywrap_tfe.TFE_Py_FastPathExecute(\n\u001b[0;32m-> 3316\u001b[0;31m         _ctx, \"MakeIterator\", name, dataset, iterator)\n\u001b[0m\u001b[1;32m   3317\u001b[0m       \u001b[0;32mreturn\u001b[0m \u001b[0m_result\u001b[0m\u001b[0;34m\u001b[0m\u001b[0;34m\u001b[0m\u001b[0m\n\u001b[1;32m   3318\u001b[0m     \u001b[0;32mexcept\u001b[0m \u001b[0m_core\u001b[0m\u001b[0;34m.\u001b[0m\u001b[0m_NotOkStatusException\u001b[0m \u001b[0;32mas\u001b[0m \u001b[0me\u001b[0m\u001b[0;34m:\u001b[0m\u001b[0;34m\u001b[0m\u001b[0;34m\u001b[0m\u001b[0m\n",
            "\u001b[0;31mKeyboardInterrupt\u001b[0m: "
          ]
        }
      ]
    },
    {
      "cell_type": "code",
      "source": [
        "plt.plot(fitness_history)"
      ],
      "metadata": {
        "id": "zAHA_tgt5gb9"
      },
      "execution_count": null,
      "outputs": []
    },
    {
      "cell_type": "code",
      "source": [
        "plt.plot(fitness_history_excluding_elites)"
      ],
      "metadata": {
        "id": "jirCWJnD5ifC"
      },
      "execution_count": null,
      "outputs": []
    }
  ]
}